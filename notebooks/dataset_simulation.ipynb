{
 "cells": [
  {
   "cell_type": "markdown",
   "id": "e9719203",
   "metadata": {},
   "source": [
    "\n",
    "\n",
    "## Simulate dataset\n",
    "\n",
    "Put energy matrix into thermodynamic model, compute transcription rate, draw random random DNA counts from a probability distribution, use transcription rate to compute RNA counts given mutations"
   ]
  },
  {
   "cell_type": "code",
   "execution_count": 32,
   "id": "be1be948-2fd4-44ca-a83b-cd962507990d",
   "metadata": {},
   "outputs": [],
   "source": [
    "import numpy as np\n",
    "import pandas as pd\n",
    "import matplotlib.pyplot as plt\n",
    "import pandas as pd\n",
    "import random"
   ]
  },
  {
   "cell_type": "code",
   "execution_count": 33,
   "id": "0015177c",
   "metadata": {},
   "outputs": [],
   "source": [
    "def plot_matrix(matrix, start, end):\n",
    "    maximum = np.max(np.abs(matrix))\n",
    "    fig,ax = plt.subplots(figsize=((10,2)))\n",
    "    plt.imshow(-np.transpose(matrix), origin='upper', cmap='coolwarm', vmax=maximum, vmin=-maximum)\n",
    "    plt.xlabel('Position')\n",
    "    ax.set_yticks([0, 1, 2, 3])\n",
    "    ax.set_yticklabels(['A','C','G','T'])\n",
    "    ax.set_xticks(np.arange(0, len(matrix), step=5))\n",
    "    ax.set_xticklabels(np.arange(start, end+1, step=5))\n",
    "    ax.grid(False)\n",
    "    plt.colorbar()"
   ]
  },
  {
   "cell_type": "code",
   "execution_count": 34,
   "id": "a31bf5a4-d878-4020-a3a8-f1eeee5d8994",
   "metadata": {},
   "outputs": [
    {
     "data": {
      "image/png": "[encoded data removed]",
      "text/plain": [
       "<Figure size 720x144 with 2 Axes>"
      ]
     },
     "metadata": {
      "needs_background": "light"
     },
     "output_type": "display_data"
    }
   ],
   "source": [
    "# Make energy matrix\n",
    "\n",
    "# The core promoter elements in prokaryotes are two conserved hexamers located around 35 and 10 bp upstream \n",
    "# of the transcription start site (TSS) separated by a variable spacing of 15–21 bp. (Weindl 2007)\n",
    "\n",
    "mu, sigma = -0.05, 0.15 # mean and standard deviation\n",
    "\n",
    "def rnap_matrix(start, end):\n",
    "    sect1 = np.random.normal(mu, sigma, size=(-35-start,4))\n",
    "    sect2 = np.random.normal(mu, sigma, size=(-10+35,4)) # change this ??\n",
    "    sect3 = np.random.normal(mu, sigma, size=(end+1+10,4))\n",
    "    return np.concatenate((sect1, sect2, sect3))\n",
    "\n",
    "#rnap_weights = np.random.uniform(low=-9e-1, high=1e-2, size=(40, 4))\n",
    "rnap_weights = rnap_matrix(-50, -3)\n",
    "plot_matrix(rnap_weights, -50, -3)"
   ]
  },
  {
   "cell_type": "code",
   "execution_count": 36,
   "id": "eefe85ed",
   "metadata": {},
   "outputs": [
    {
     "data": {
      "image/png": "[encoded data removed]",
      "text/plain": [
       "<Figure size 720x144 with 2 Axes>"
      ]
     },
     "metadata": {
      "needs_background": "light"
     },
     "output_type": "display_data"
    }
   ],
   "source": [
    "mu, sigma = -0.10, 0.2\n",
    "def rnap_matrix2(start, end):\n",
    "    entire = np.random.normal(mu, sigma, size=(end-start+1,4))\n",
    "    # change six bp region around -35 and -10\n",
    "    # change from - 38, -32 \n",
    "    entire = np.delete(entire, slice(-38 - start, -32 - start), axis=0)\n",
    "    binding_site = np.random.normal(mu, 0.7, size=(6,4))\n",
    "    entire = np.insert(entire, -38 - start, binding_site, 0)\n",
    "    \n",
    "    # change -14, -8 region \n",
    "    entire = np.delete(entire, slice(-13 - start, -7 - start), axis=0)\n",
    "    binding_site = np.random.normal(mu, 0.7, size=(6,4))\n",
    "    entire = np.insert(entire, -13 - start, binding_site, 0)\n",
    "    return entire\n",
    "\n",
    "rnap_weights = rnap_matrix2(-50, -3)\n",
    "plot_matrix(rnap_weights, -50, -3)"
   ]
  },
  {
   "cell_type": "code",
   "execution_count": 37,
   "id": "b1b6b99f",
   "metadata": {},
   "outputs": [
    {
     "name": "stdout",
     "output_type": "stream",
     "text": [
      "26\n"
     ]
    },
    {
     "data": {
      "image/png": "[encoded data removed]",
      "text/plain": [
       "<Figure size 720x144 with 2 Axes>"
      ]
     },
     "metadata": {
      "needs_background": "light"
     },
     "output_type": "display_data"
    }
   ],
   "source": [
    "mu, sigma = -0.10, 0.2\n",
    "site = (-90, -78)\n",
    "def repressor_matrix(start, end, site):\n",
    "    mat1 = np.random.normal(mu, sigma, size=(end-start+1, 4))\n",
    "    mat2 = np.zeros((len(mat1), 4))\n",
    "    mat2[(site[0]-start):(site[1]-start)] = 0.5\n",
    "    return mat1-mat2\n",
    "\n",
    "rep_weights = repressor_matrix(-98, -73, site)\n",
    "                            \n",
    "plot_matrix(rep_weights, -98, -73)\n",
    "print(len(rep_weights))"
   ]
  },
  {
   "cell_type": "code",
   "execution_count": 6,
   "id": "d831933a",
   "metadata": {},
   "outputs": [],
   "source": [
    "# np.random.choice(np.arange(1, 7), p=[0.1, 0.05, 0.05, 0.2, 0.4, 0.2], size=100)"
   ]
  },
  {
   "cell_type": "code",
   "execution_count": 7,
   "id": "5b7be1a0",
   "metadata": {},
   "outputs": [],
   "source": [
    "base = ['A', 'C', 'G', 'T']\n",
    "\n",
    "bases = dict({0: 'A', 1: 'C', 2: 'G', 3:'T'})\n",
    "seqs = dict()"
   ]
  },
  {
   "cell_type": "code",
   "execution_count": 14,
   "id": "481216bb",
   "metadata": {},
   "outputs": [],
   "source": [
    "def optimal_sequence(matrix, seq_name):\n",
    "    seq = ''\n",
    "    for row in matrix:\n",
    "        loc = int(np.where(row == min(row))[0])\n",
    "        seq += base[loc]\n",
    "    seqs[seq_name] = seq\n",
    "    return seq\n",
    "\n",
    "rnap = optimal_sequence(rnap_weights, 'rnap')\n",
    "repressor = optimal_sequence(rep_weights, 'rep')"
   ]
  },
  {
   "cell_type": "code",
   "execution_count": 38,
   "id": "70e1ea2c",
   "metadata": {},
   "outputs": [],
   "source": [
    "# Stich together rnap and repressor\n",
    "def make_wildtype(rnap, repressor):\n",
    "    dna = list(rnap+repressor)\n",
    "    for i in range(116):\n",
    "        dna.insert(0, random.choice(base))\n",
    "    for i in range(161):\n",
    "        dna += [random.choice(base)]\n",
    "    return ''.join(dna)"
   ]
  },
  {
   "cell_type": "code",
   "execution_count": 9,
   "id": "69797ad8",
   "metadata": {},
   "outputs": [],
   "source": [
    "# Generate mutations\n",
    "def mutate_sequences(sequence, mutate_rate):\n",
    "    dna = list(sequence)\n",
    "    for i in range(len(sequence)):\n",
    "        r = random.random()\n",
    "        if r < mutate_rate:\n",
    "            nuc = 'ACGT'.replace(dna[i], '')\n",
    "            dna[i] = random.choice(list(nuc))\n",
    "    return ''.join(dna)"
   ]
  },
  {
   "cell_type": "code",
   "execution_count": 31,
   "id": "1121f99c",
   "metadata": {},
   "outputs": [],
   "source": [
    "wt = make_wildtype(rnap, repressor)\n",
    "\n",
    "variants = []\n",
    "variants += [mutate_sequences(wt, 0.1)]"
   ]
  },
  {
   "cell_type": "code",
   "execution_count": 10,
   "id": "1455bd2c",
   "metadata": {},
   "outputs": [
    {
     "data": {
      "text/html": [
       "<div>\n",
       "<style scoped>\n",
       "    .dataframe tbody tr th:only-of-type {\n",
       "        vertical-align: middle;\n",
       "    }\n",
       "\n",
       "    .dataframe tbody tr th {\n",
       "        vertical-align: top;\n",
       "    }\n",
       "\n",
       "    .dataframe thead th {\n",
       "        text-align: right;\n",
       "    }\n",
       "</style>\n",
       "<table border=\"1\" class=\"dataframe\">\n",
       "  <thead>\n",
       "    <tr style=\"text-align: right;\">\n",
       "      <th></th>\n",
       "      <th>type</th>\n",
       "      <th>seqs</th>\n",
       "    </tr>\n",
       "  </thead>\n",
       "  <tbody>\n",
       "    <tr>\n",
       "      <th>0</th>\n",
       "      <td>rnap</td>\n",
       "      <td>ATCCCGTTCCGGAGTTGTGTACATAGGAGACCAAACTCCATCTTTAGC</td>\n",
       "    </tr>\n",
       "    <tr>\n",
       "      <th>1</th>\n",
       "      <td>rep</td>\n",
       "      <td>TGCCGGAAGGTGTTCACAATCAAATA</td>\n",
       "    </tr>\n",
       "  </tbody>\n",
       "</table>\n",
       "</div>"
      ],
      "text/plain": [
       "   type                                              seqs\n",
       "0  rnap  ATCCCGTTCCGGAGTTGTGTACATAGGAGACCAAACTCCATCTTTAGC\n",
       "1   rep                        TGCCGGAAGGTGTTCACAATCAAATA"
      ]
     },
     "execution_count": 10,
     "metadata": {},
     "output_type": "execute_result"
    }
   ],
   "source": [
    "df = pd.DataFrame({'type': seqs.keys(), 'seqs': seqs.values()})\n",
    "df"
   ]
  },
  {
   "cell_type": "code",
   "execution_count": 11,
   "id": "343abe73",
   "metadata": {},
   "outputs": [
    {
     "data": {
      "text/plain": [
       "'AATTATAGAAACTCTCCTTAGTAGAGCATCTTTCAGATTGAATCGCTA'"
      ]
     },
     "execution_count": 11,
     "metadata": {},
     "output_type": "execute_result"
    }
   ],
   "source": [
    "mutate_sequences('AATTATAGAAACTCTCCTTAGTATAGCATCTTTCAGATTGAATCGTTA', 0.1)"
   ]
  },
  {
   "cell_type": "code",
   "execution_count": null,
   "id": "4b04a75d",
   "metadata": {},
   "outputs": [],
   "source": []
  },
  {
   "cell_type": "code",
   "execution_count": null,
   "id": "a00b6c7a",
   "metadata": {},
   "outputs": [],
   "source": []
  }
 ],
 "metadata": {
  "kernelspec": {
   "display_name": "Python (mavenn)",
   "language": "python",
   "name": "mymavenn"
  },
  "language_info": {
   "codemirror_mode": {
    "name": "ipython",
    "version": 3
   },
   "file_extension": ".py",
   "mimetype": "text/x-python",
   "name": "python",
   "nbconvert_exporter": "python",
   "pygments_lexer": "ipython3",
   "version": "3.8.13"
  }
 },
 "nbformat": 4,
 "nbformat_minor": 5
}

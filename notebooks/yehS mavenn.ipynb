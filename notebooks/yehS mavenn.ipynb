{
 "cells": [
  {
   "cell_type": "code",
   "execution_count": 1,
   "id": "d3e7ca79",
   "metadata": {},
   "outputs": [],
   "source": [
    "import tensorflow\n",
    "import numpy as np\n",
    "import pandas as pd\n",
    "import matplotlib.pyplot as plt\n",
    "import random"
   ]
  },
  {
   "cell_type": "code",
   "execution_count": 2,
   "id": "571c8177",
   "metadata": {},
   "outputs": [],
   "source": [
    "# Insert local path to MAVE-NN at beginning of Python's path\n",
    "import sys\n",
    "sys.path.insert(0, '/Users/annzhu/Desktop/phillipslab/mavenn')\n",
    "\n",
    "#Load mavenn\n",
    "import mavenn"
   ]
  },
  {
   "cell_type": "code",
   "execution_count": 64,
   "id": "0200e330",
   "metadata": {},
   "outputs": [
    {
     "name": "stdout",
     "output_type": "stream",
     "text": [
      "Loading dataset 'yehS' \n",
      "1213\n",
      "Sequence length: 160 amino acids\n"
     ]
    },
    {
     "data": {
      "text/html": [
       "<div>\n",
       "<style scoped>\n",
       "    .dataframe tbody tr th:only-of-type {\n",
       "        vertical-align: middle;\n",
       "    }\n",
       "\n",
       "    .dataframe tbody tr th {\n",
       "        vertical-align: top;\n",
       "    }\n",
       "\n",
       "    .dataframe thead th {\n",
       "        text-align: right;\n",
       "    }\n",
       "</style>\n",
       "<table border=\"1\" class=\"dataframe\">\n",
       "  <thead>\n",
       "    <tr style=\"text-align: right;\">\n",
       "      <th></th>\n",
       "      <th>set</th>\n",
       "      <th>ct_0</th>\n",
       "      <th>ct_1</th>\n",
       "      <th>seq</th>\n",
       "    </tr>\n",
       "  </thead>\n",
       "  <tbody>\n",
       "    <tr>\n",
       "      <th>0</th>\n",
       "      <td>training</td>\n",
       "      <td>1.0</td>\n",
       "      <td>0.0</td>\n",
       "      <td>CTGGCGATTCGTCTGGAAGATAACGGCCAGGCCGAGTTGATATTGC...</td>\n",
       "    </tr>\n",
       "    <tr>\n",
       "      <th>1</th>\n",
       "      <td>training</td>\n",
       "      <td>1.0</td>\n",
       "      <td>0.0</td>\n",
       "      <td>CTGGCGATTCGTCTGGAAGATAACGGCCAGGCCGAGTTGATATTGC...</td>\n",
       "    </tr>\n",
       "    <tr>\n",
       "      <th>2</th>\n",
       "      <td>training</td>\n",
       "      <td>1.0</td>\n",
       "      <td>0.0</td>\n",
       "      <td>CTGGCGATTCGTCTGGAAGATAACGGCCAGGCCGAGTTGATATTGC...</td>\n",
       "    </tr>\n",
       "    <tr>\n",
       "      <th>3</th>\n",
       "      <td>training</td>\n",
       "      <td>1.0</td>\n",
       "      <td>0.0</td>\n",
       "      <td>CTGGCGATTCGTCTGGAAGATAACGGCCAGGCCGAGTTGATATTGC...</td>\n",
       "    </tr>\n",
       "    <tr>\n",
       "      <th>4</th>\n",
       "      <td>test</td>\n",
       "      <td>1.0</td>\n",
       "      <td>0.0</td>\n",
       "      <td>CTGGCGATTCGTCTGGAAGATAACGGCCAGGCCGAGTTGATATTGC...</td>\n",
       "    </tr>\n",
       "    <tr>\n",
       "      <th>...</th>\n",
       "      <td>...</td>\n",
       "      <td>...</td>\n",
       "      <td>...</td>\n",
       "      <td>...</td>\n",
       "    </tr>\n",
       "    <tr>\n",
       "      <th>81863</th>\n",
       "      <td>training</td>\n",
       "      <td>0.0</td>\n",
       "      <td>1.0</td>\n",
       "      <td>AAAGAGATTCGTATGGAAGATAACGGCCAGGCCGAGGTGAATTTGC...</td>\n",
       "    </tr>\n",
       "    <tr>\n",
       "      <th>81864</th>\n",
       "      <td>training</td>\n",
       "      <td>0.0</td>\n",
       "      <td>1.0</td>\n",
       "      <td>AAAGAGATTCGTATGGAAGATAACGGCCAGGCCGAGGTGAATTTGC...</td>\n",
       "    </tr>\n",
       "    <tr>\n",
       "      <th>81865</th>\n",
       "      <td>training</td>\n",
       "      <td>0.0</td>\n",
       "      <td>1.0</td>\n",
       "      <td>AAAGAGATTCGTATGGAAGATAACGGCCAGGCCGAGGTGAATTTGC...</td>\n",
       "    </tr>\n",
       "    <tr>\n",
       "      <th>81866</th>\n",
       "      <td>test</td>\n",
       "      <td>0.0</td>\n",
       "      <td>1.0</td>\n",
       "      <td>AAAGAGATTCGTATGGAAGATAACGGCCAGGCCGAGGTGAATTTGC...</td>\n",
       "    </tr>\n",
       "    <tr>\n",
       "      <th>81867</th>\n",
       "      <td>training</td>\n",
       "      <td>0.0</td>\n",
       "      <td>1.0</td>\n",
       "      <td>AAAGAGATTCGTATGGAAGATAACGGCCAGGCCGAGGTGAATTTGC...</td>\n",
       "    </tr>\n",
       "  </tbody>\n",
       "</table>\n",
       "<p>81868 rows × 4 columns</p>\n",
       "</div>"
      ],
      "text/plain": [
       "            set  ct_0  ct_1                                                seq\n",
       "0      training   1.0   0.0  CTGGCGATTCGTCTGGAAGATAACGGCCAGGCCGAGTTGATATTGC...\n",
       "1      training   1.0   0.0  CTGGCGATTCGTCTGGAAGATAACGGCCAGGCCGAGTTGATATTGC...\n",
       "2      training   1.0   0.0  CTGGCGATTCGTCTGGAAGATAACGGCCAGGCCGAGTTGATATTGC...\n",
       "3      training   1.0   0.0  CTGGCGATTCGTCTGGAAGATAACGGCCAGGCCGAGTTGATATTGC...\n",
       "4          test   1.0   0.0  CTGGCGATTCGTCTGGAAGATAACGGCCAGGCCGAGTTGATATTGC...\n",
       "...         ...   ...   ...                                                ...\n",
       "81863  training   0.0   1.0  AAAGAGATTCGTATGGAAGATAACGGCCAGGCCGAGGTGAATTTGC...\n",
       "81864  training   0.0   1.0  AAAGAGATTCGTATGGAAGATAACGGCCAGGCCGAGGTGAATTTGC...\n",
       "81865  training   0.0   1.0  AAAGAGATTCGTATGGAAGATAACGGCCAGGCCGAGGTGAATTTGC...\n",
       "81866      test   0.0   1.0  AAAGAGATTCGTATGGAAGATAACGGCCAGGCCGAGGTGAATTTGC...\n",
       "81867  training   0.0   1.0  AAAGAGATTCGTATGGAAGATAACGGCCAGGCCGAGGTGAATTTGC...\n",
       "\n",
       "[81868 rows x 4 columns]"
      ]
     },
     "execution_count": 64,
     "metadata": {},
     "output_type": "execute_result"
    }
   ],
   "source": [
    "# Choose dataset\n",
    "data_name = 'yehS'\n",
    "\n",
    "print(f\"Loading dataset '{data_name}' \")\n",
    "\n",
    "# Load datset\n",
    "_data_df = pd.read_csv('/Users/annzhu/Desktop/phillipslab/LB_data.csv')\n",
    "data_df = _data_df[_data_df['gene'].str.contains('yehS')]\n",
    "data_df = data_df.dropna()\n",
    "print(len(data_df))\n",
    "df_bin = pd.DataFrame()\n",
    "\n",
    "for i in range(len(data_df)):\n",
    "    ct0, ct1, seq = data_df.iloc[i][['counts_DNA', 'counts_RNA', 'seq']]\n",
    "    df_ct0 = pd.DataFrame(\n",
    "        data={\n",
    "            \"ct_0\":np.ones(int(ct0)), \n",
    "            \"ct_1\":np.zeros(int(ct0)), \n",
    "            \"seq\":np.full(int(ct0), seq)})\n",
    "    df_ct1 = pd.DataFrame(\n",
    "        data={\n",
    "            \"ct_0\":np.zeros(int(ct1)), \n",
    "            \"ct_1\":np.ones(int(ct1)), \n",
    "            \"seq\":np.full(int(ct1), seq)})\n",
    "    df_bin = pd.concat([df_bin, df_ct0, df_ct1])\n",
    "    \n",
    "df_bin.reset_index(inplace=True, drop=True)\n",
    "# df_bin['seq'] = [x[:160] for x in df_bin['seq']]\n",
    "\n",
    "# Add random set classification: test/training/validation\n",
    "set_options = ['test', 'training', 'validation']\n",
    "vals = random.choices(population=set_options, weights=[0.2, 0.6, 0.2], k=len(df_bin))\n",
    "\n",
    "df_bin.insert(loc=0,\n",
    "column='set',\n",
    "value=vals)\n",
    "\n",
    "# m = data_df['set'].eq('Placeholder')\n",
    "# data_df.loc[m, 'set'] = np.random.choice(set_options, size=m.sum())\n",
    "\n",
    "# Get and report sequence length\n",
    "L = len(df_bin.loc[0, 'seq'])\n",
    "print(f'Sequence length: {L:d} amino acids')\n",
    "               \n",
    "# Preview dataset\n",
    "df_bin"
   ]
  },
  {
   "cell_type": "code",
   "execution_count": 41,
   "id": "d1ee784d",
   "metadata": {},
   "outputs": [
    {
     "name": "stdout",
     "output_type": "stream",
     "text": [
      "Training set   :   98,761 observations (  59.94%)\n",
      "Validation set :   32,781 observations (  19.90%)\n",
      "Test set       :   33,212 observations (  20.16%)\n",
      "-------------------------------------------------\n",
      "Total dataset  :  164,754 observations ( 100.00%)\n",
      "\n",
      "Train + val set size : 131,542 observations\n",
      "Test set size        : 33,212 observations\n"
     ]
    },
    {
     "data": {
      "text/html": [
       "<div>\n",
       "<style scoped>\n",
       "    .dataframe tbody tr th:only-of-type {\n",
       "        vertical-align: middle;\n",
       "    }\n",
       "\n",
       "    .dataframe tbody tr th {\n",
       "        vertical-align: top;\n",
       "    }\n",
       "\n",
       "    .dataframe thead th {\n",
       "        text-align: right;\n",
       "    }\n",
       "</style>\n",
       "<table border=\"1\" class=\"dataframe\">\n",
       "  <thead>\n",
       "    <tr style=\"text-align: right;\">\n",
       "      <th></th>\n",
       "      <th>validation</th>\n",
       "      <th>ct_0</th>\n",
       "      <th>ct_1</th>\n",
       "      <th>seq</th>\n",
       "    </tr>\n",
       "  </thead>\n",
       "  <tbody>\n",
       "    <tr>\n",
       "      <th>0</th>\n",
       "      <td>False</td>\n",
       "      <td>1.0</td>\n",
       "      <td>0.0</td>\n",
       "      <td>CTGGCGATTCGTCTGGAAGATAACGGCCAGGCCGAGTTGATATTGC...</td>\n",
       "    </tr>\n",
       "    <tr>\n",
       "      <th>1</th>\n",
       "      <td>False</td>\n",
       "      <td>1.0</td>\n",
       "      <td>0.0</td>\n",
       "      <td>CTGGCGATTCGTCTGGAAGATAACGGCCAGGCCGAGTTGATATTGC...</td>\n",
       "    </tr>\n",
       "    <tr>\n",
       "      <th>2</th>\n",
       "      <td>False</td>\n",
       "      <td>1.0</td>\n",
       "      <td>0.0</td>\n",
       "      <td>CTGGCGATTCGTCTGGAAGATAACGGCCAGGCCGAGTTGATATTGC...</td>\n",
       "    </tr>\n",
       "    <tr>\n",
       "      <th>3</th>\n",
       "      <td>True</td>\n",
       "      <td>1.0</td>\n",
       "      <td>0.0</td>\n",
       "      <td>CTGGCGATTCGTCTGGAAGATAACGGCCAGGCCGAGTTGATATTGC...</td>\n",
       "    </tr>\n",
       "    <tr>\n",
       "      <th>4</th>\n",
       "      <td>False</td>\n",
       "      <td>1.0</td>\n",
       "      <td>0.0</td>\n",
       "      <td>CTGGCGATTCGTCTGGAAGATAACGGCCAGGCCGAGTTGATATTGC...</td>\n",
       "    </tr>\n",
       "    <tr>\n",
       "      <th>...</th>\n",
       "      <td>...</td>\n",
       "      <td>...</td>\n",
       "      <td>...</td>\n",
       "      <td>...</td>\n",
       "    </tr>\n",
       "    <tr>\n",
       "      <th>131537</th>\n",
       "      <td>False</td>\n",
       "      <td>0.0</td>\n",
       "      <td>1.0</td>\n",
       "      <td>AAAGAGATTCGTATGGAAGATAACGGCCAGGCCGAGGTGAATTTGC...</td>\n",
       "    </tr>\n",
       "    <tr>\n",
       "      <th>131538</th>\n",
       "      <td>True</td>\n",
       "      <td>0.0</td>\n",
       "      <td>1.0</td>\n",
       "      <td>AAAGAGATTCGTATGGAAGATAACGGCCAGGCCGAGGTGAATTTGC...</td>\n",
       "    </tr>\n",
       "    <tr>\n",
       "      <th>131539</th>\n",
       "      <td>False</td>\n",
       "      <td>0.0</td>\n",
       "      <td>1.0</td>\n",
       "      <td>AAAGAGATTCGTATGGAAGATAACGGCCAGGCCGAGGTGAATTTGC...</td>\n",
       "    </tr>\n",
       "    <tr>\n",
       "      <th>131540</th>\n",
       "      <td>True</td>\n",
       "      <td>0.0</td>\n",
       "      <td>1.0</td>\n",
       "      <td>AAAGAGATTCGTATGGAAGATAACGGCCAGGCCGAGGTGAATTTGC...</td>\n",
       "    </tr>\n",
       "    <tr>\n",
       "      <th>131541</th>\n",
       "      <td>False</td>\n",
       "      <td>0.0</td>\n",
       "      <td>1.0</td>\n",
       "      <td>AAAGAGATTCGTATGGAAGATAACGGCCAGGCCGAGGTGAATTTGC...</td>\n",
       "    </tr>\n",
       "  </tbody>\n",
       "</table>\n",
       "<p>131542 rows × 4 columns</p>\n",
       "</div>"
      ],
      "text/plain": [
       "        validation  ct_0  ct_1  \\\n",
       "0            False   1.0   0.0   \n",
       "1            False   1.0   0.0   \n",
       "2            False   1.0   0.0   \n",
       "3             True   1.0   0.0   \n",
       "4            False   1.0   0.0   \n",
       "...            ...   ...   ...   \n",
       "131537       False   0.0   1.0   \n",
       "131538        True   0.0   1.0   \n",
       "131539       False   0.0   1.0   \n",
       "131540        True   0.0   1.0   \n",
       "131541       False   0.0   1.0   \n",
       "\n",
       "                                                      seq  \n",
       "0       CTGGCGATTCGTCTGGAAGATAACGGCCAGGCCGAGTTGATATTGC...  \n",
       "1       CTGGCGATTCGTCTGGAAGATAACGGCCAGGCCGAGTTGATATTGC...  \n",
       "2       CTGGCGATTCGTCTGGAAGATAACGGCCAGGCCGAGTTGATATTGC...  \n",
       "3       CTGGCGATTCGTCTGGAAGATAACGGCCAGGCCGAGTTGATATTGC...  \n",
       "4       CTGGCGATTCGTCTGGAAGATAACGGCCAGGCCGAGTTGATATTGC...  \n",
       "...                                                   ...  \n",
       "131537  AAAGAGATTCGTATGGAAGATAACGGCCAGGCCGAGGTGAATTTGC...  \n",
       "131538  AAAGAGATTCGTATGGAAGATAACGGCCAGGCCGAGGTGAATTTGC...  \n",
       "131539  AAAGAGATTCGTATGGAAGATAACGGCCAGGCCGAGGTGAATTTGC...  \n",
       "131540  AAAGAGATTCGTATGGAAGATAACGGCCAGGCCGAGGTGAATTTGC...  \n",
       "131541  AAAGAGATTCGTATGGAAGATAACGGCCAGGCCGAGGTGAATTTGC...  \n",
       "\n",
       "[131542 rows x 4 columns]"
      ]
     },
     "execution_count": 41,
     "metadata": {},
     "output_type": "execute_result"
    }
   ],
   "source": [
    "# Split dataset\n",
    "trainval_df, test_df = mavenn.split_dataset(df_bin)\n",
    "\n",
    "# Show dataset sizes\n",
    "print(f'Train + val set size : {len(trainval_df):6,d} observations')\n",
    "print(f'Test set size        : {len(test_df):6,d} observations')\n",
    "\n",
    "# Preview trainval_df\n",
    "trainval_df"
   ]
  },
  {
   "cell_type": "code",
   "execution_count": 45,
   "id": "c642ae4c",
   "metadata": {},
   "outputs": [],
   "source": [
    "# Get the length of the sequence\n",
    "L = len(df_bin['seq'][0])\n",
    "# Get the column index for the counts\n",
    "y_cols = trainval_df.columns[1:-1]\n",
    "# Get the number of count columns\n",
    "len_y_cols = len(y_cols)"
   ]
  },
  {
   "cell_type": "code",
   "execution_count": 43,
   "id": "ca9a89f4",
   "metadata": {},
   "outputs": [],
   "source": [
    "from mavenn.src.layers.gpmap import GPMapLayer\n",
    "\n",
    "# Tensorflow imports\n",
    "import tensorflow as tf\n",
    "import tensorflow.keras.backend as K\n",
    "from tensorflow.keras.initializers import Constant\n",
    "\n",
    "class ThermodynamicLayer(GPMapLayer):\n",
    "    \"\"\"\n",
    "    Represents a three-stage thermodynamic model\n",
    "    containing the states:\n",
    "    1. free DNA\n",
    "    2. YieP-DNA binding\n",
    "    3. RNAP-DNA binding\n",
    "    \"\"\"\n",
    "\n",
    "    def __init__(self,\n",
    "                 tf_start,\n",
    "                 tf_end,\n",
    "                 rnap_start,\n",
    "                 rnap_end,\n",
    "                 *args, **kwargs):\n",
    "        \"\"\"Construct layer instance.\"\"\"\n",
    "\n",
    "        # Call superclass\n",
    "        super().__init__(*args, **kwargs)\n",
    "\n",
    "        # set attributes\n",
    "        self.tf_start = tf_start             # transcription factor starting position\n",
    "        self.tf_end = tf_end                 # transcription factor ending position\n",
    "        self.L_tf = tf_end - tf_start        # length of transcription factor\n",
    "        self.rnap_start = rnap_start         # RNAP starting position\n",
    "        self.rnap_end = rnap_end             # RNAP ending position\n",
    "        self.L_rnap = rnap_end - rnap_start  # length of RNAP\n",
    "\n",
    "        # define bias/chemical potential weight for TF/CRP energy\n",
    "        self.theta_tf_0 = self.add_weight(name='theta_tf_0',\n",
    "                                          shape=(1,),\n",
    "                                          initializer=Constant(1.),\n",
    "                                          trainable=True,\n",
    "                                          regularizer=self.regularizer)\n",
    "\n",
    "        # define bias/chemical potential weight for rnap energy\n",
    "        self.theta_rnap_0 = self.add_weight(name='theta_rnap_0',\n",
    "                                            shape=(1,),\n",
    "                                            initializer=Constant(1.),\n",
    "                                            trainable=True,\n",
    "                                            regularizer=self.regularizer)\n",
    "\n",
    "        # initialize the theta_tf\n",
    "        theta_tf_shape = (1, self.L_tf, self.C)\n",
    "        theta_tf_init = np.random.randn(*theta_tf_shape)/np.sqrt(self.L_tf)\n",
    "\n",
    "        # define the weights of the layer corresponds to theta_tf\n",
    "        self.theta_tf = self.add_weight(name='theta_tf',\n",
    "                                        shape=theta_tf_shape,\n",
    "                                        initializer=Constant(theta_tf_init),\n",
    "                                        trainable=True,\n",
    "                                        regularizer=self.regularizer)\n",
    "\n",
    "        # define theta_rnap parameters\n",
    "        theta_rnap_shape = (1, self.L_rnap, self.C)\n",
    "        theta_rnap_init = np.random.randn(*theta_rnap_shape)/np.sqrt(self.L_rnap)\n",
    "\n",
    "        # define the weights of the layer corresponds to theta_rnap\n",
    "        self.theta_rnap = self.add_weight(name='theta_rnap',\n",
    "                                          shape=theta_rnap_shape,\n",
    "                                          initializer=Constant(theta_rnap_init),\n",
    "                                          trainable=True,\n",
    "                                          regularizer=self.regularizer)\n",
    "\n",
    "\n",
    "    def call(self, x):\n",
    "        \"\"\"Process layer input and return output.\n",
    "\n",
    "        x: (tensor)\n",
    "            Input tensor that represents one-hot encoded\n",
    "            sequence values.\n",
    "        \"\"\"\n",
    "\n",
    "        # extract locations of binding sites from entire lac-promoter sequence.\n",
    "        # for transcription factor and rnap\n",
    "        x_tf = x[:, self.C * self.tf_start:self.C * self.tf_end]\n",
    "        x_rnap = x[:, self.C * self.rnap_start: self.C * self.rnap_end]\n",
    "\n",
    "        # reshape according to tf and rnap lengths.\n",
    "        x_tf = tf.reshape(x_tf, [-1, self.L_tf, self.C])\n",
    "        x_rnap = tf.reshape(x_rnap, [-1, self.L_rnap, self.C])\n",
    "\n",
    "        # compute delta G for crp binding\n",
    "        G_C = self.theta_tf_0 + \\\n",
    "            tf.reshape(K.sum(self.theta_tf * x_tf, axis=[1, 2]),\n",
    "                       shape=[-1, 1])\n",
    "\n",
    "        # compute delta G for rnap binding\n",
    "        G_R = self.theta_rnap_0 + \\\n",
    "            tf.reshape(K.sum(self.theta_rnap * x_rnap, axis=[1, 2]),\n",
    "                       shape=[-1, 1])\n",
    "\n",
    "        # compute phi\n",
    "        numerator_of_rate = K.exp(-G_R)\n",
    "        denom_of_rate = 1.0 + K.exp(-G_C) + K.exp(-G_R)\n",
    "        phi = numerator_of_rate/denom_of_rate\n",
    "\n",
    "        return phi"
   ]
  },
  {
   "cell_type": "code",
   "execution_count": 46,
   "id": "85713f24",
   "metadata": {},
   "outputs": [
    {
     "name": "stdout",
     "output_type": "stream",
     "text": [
      "N = 131,542 observations set as training data.\n",
      "Using 24.9% for validation.\n",
      "Data shuffled.\n",
      "Time to set data: 3.11 sec.\n",
      "Training time: 2308.4 seconds\n"
     ]
    }
   ],
   "source": [
    "# define custom gp_map parameters dictionary\n",
    "gpmap_kwargs = {'tf_start': -2+115,  # starting position of the YieP -35\n",
    "                'tf_end': 5+115,  # ending position of the YieP -20\n",
    "                'rnap_start': -25+115,  # starting position of the RNAP -67\n",
    "                'rnap_end': 17+115,   # ending position of the RNAP -44\n",
    "                'L': L,\n",
    "                'C': 4,\n",
    "                'theta_regularization': 0.1}\n",
    "\n",
    "# Create model\n",
    "model = mavenn.Model(L=L,\n",
    "                     Y=len_y_cols,\n",
    "                     alphabet='dna',\n",
    "                     regression_type='MPA',\n",
    "                     gpmap_type='custom',\n",
    "                     gpmap_kwargs=gpmap_kwargs,\n",
    "                     custom_gpmap=ThermodynamicLayer);\n",
    "\n",
    "# Set training data\n",
    "model.set_data(x=trainval_df['seq'],\n",
    "               y=trainval_df[y_cols],\n",
    "               validation_flags=trainval_df['validation'],\n",
    "               shuffle=True);\n",
    "\n",
    "# Fit model to data\n",
    "model.fit(learning_rate=5e-4,\n",
    "          epochs=2000,\n",
    "          batch_size=100,\n",
    "          early_stopping=True,\n",
    "          early_stopping_patience=25,\n",
    "          linear_initialization=False,\n",
    "          verbose=False);"
   ]
  },
  {
   "cell_type": "code",
   "execution_count": 47,
   "id": "02a352f1",
   "metadata": {},
   "outputs": [
    {
     "name": "stdout",
     "output_type": "stream",
     "text": [
      "Model saved to these files:\n",
      "\tyehS_thermodynamic_mpa.pickle\n",
      "\tyehS_thermodynamic_mpa.h5\n"
     ]
    }
   ],
   "source": [
    "model.save('yehS_thermodynamic_mpa')"
   ]
  },
  {
   "cell_type": "code",
   "execution_count": 48,
   "id": "b51e0127",
   "metadata": {},
   "outputs": [
    {
     "name": "stdout",
     "output_type": "stream",
     "text": [
      "test_I_pred: 0.121 +- 0.005 bits\n"
     ]
    }
   ],
   "source": [
    "# Compute predictive information on test data\n",
    "I_pred, dI_pred = model.I_predictive(x=test_df['seq'], y=test_df[y_cols])\n",
    "print(f'test_I_pred: {I_pred:.3f} +- {dI_pred:.3f} bits')"
   ]
  },
  {
   "cell_type": "code",
   "execution_count": 49,
   "id": "6a57ea52",
   "metadata": {},
   "outputs": [
    {
     "data": {
      "image/png": "[encoded data removed]",
      "text/plain": [
       "<Figure size 360x360 with 1 Axes>"
      ]
     },
     "metadata": {
      "needs_background": "light"
     },
     "output_type": "display_data"
    }
   ],
   "source": [
    "# Create figure and axes for plotting\n",
    "fig, ax = plt.subplots(1, 1, figsize=[5, 5])\n",
    "\n",
    "# Plot I_var_train, the variational information on training data as a function of epoch\n",
    "ax.plot(model.history['I_var'], label=r'I_var_train')\n",
    "\n",
    "# Plot I_var_val, the variational information on validation data as a function of epoch\n",
    "ax.plot(model.history['val_I_var'], label=r'val_I_var')\n",
    "\n",
    "# Show I_pred_test, the predictive information of the final model on test data\n",
    "ax.axhline(I_pred, color='C3', linestyle=':', label=r'test_I_pred')\n",
    "\n",
    "# Style plot\n",
    "ax.set_xlabel('epochs')\n",
    "ax.set_ylabel('bits')\n",
    "ax.set_title('Training history: variational information')\n",
    "ax.legend()\n",
    "\n",
    "plt.tight_layout()"
   ]
  },
  {
   "cell_type": "code",
   "execution_count": 50,
   "id": "d6bb171d",
   "metadata": {},
   "outputs": [
    {
     "data": {
      "text/plain": [
       "dict_keys(['theta_tf_0', 'theta_rnap_0', 'theta_tf', 'theta_rnap'])"
      ]
     },
     "execution_count": 50,
     "metadata": {},
     "output_type": "execute_result"
    }
   ],
   "source": [
    "# Get the trained model parameters\n",
    "# Retrieve G-P map parameter dict and view dict keys\n",
    "param_dict = model.layer_gpmap.get_params()\n",
    "param_dict.keys()"
   ]
  },
  {
   "cell_type": "code",
   "execution_count": 65,
   "id": "9db3e9d1",
   "metadata": {},
   "outputs": [],
   "source": [
    "# delta_G_I = param_dict['theta_dG_I']  # Gibbs energy of Interaction (scalar)\n",
    "# print(f'YieP-RNAP interaction energy = {delta_G_I*0.62:.3f} k_cal/mol')"
   ]
  },
  {
   "cell_type": "code",
   "execution_count": 63,
   "id": "ee573e74",
   "metadata": {},
   "outputs": [
    {
     "name": "stdout",
     "output_type": "stream",
     "text": [
      "[[-0.17509413  0.08343528  0.12949292 -0.02791589]\n",
      " [ 0.00952505 -0.13592143  0.18261935 -0.04636685]\n",
      " [-0.00607122 -0.22050865  0.12385979  0.10853031]\n",
      " [-0.1444305   0.02297696  0.00652536  0.12556401]\n",
      " [ 0.08897771 -0.04961592  0.07651328 -0.11987121]\n",
      " [-0.1634402  -0.01635243  0.13386866  0.05389962]\n",
      " [-0.06094239  0.07599098  0.12119962 -0.12814054]]\n"
     ]
    },
    {
     "data": {
      "image/png": "[encoded data removed]",
      "text/plain": [
       "<Figure size 864x216 with 2 Axes>"
      ]
     },
     "metadata": {
      "needs_background": "light"
     },
     "output_type": "display_data"
    }
   ],
   "source": [
    "# import logomaker\n",
    "import logomaker\n",
    "\n",
    "# Get the \\Delta G_C trained values (theta_tf)\n",
    "tf_weights = param_dict['theta_tf']\n",
    "# Get the \\Delta G_R trained values (theta_rnap)\n",
    "rnap_weights = param_dict['theta_rnap']\n",
    "# Convert them to pandas dataframe\n",
    "tf_df = pd.DataFrame(tf_weights, columns=model.alphabet)\n",
    "rnap_df = pd.DataFrame(rnap_weights, columns=model.alphabet)\n",
    "\n",
    "\n",
    "# plot logos\n",
    "fig, axs = plt.subplots(1, 2, figsize=[12, 3])\n",
    "\n",
    "# sequence logo for the YieP-DNA binding energy matrix\n",
    "logo = logomaker.Logo(yiep_df,  ax=axs[0], center_values=True)\n",
    "axs[0].set_title('YieP-DNA ($\\Delta G_C$)')\n",
    "axs[0].set_xlabel('Position')\n",
    "axs[0].set_xticks(np.arange(0, len(tf_weights), step=2))\n",
    "axs[0].set_xticklabels(np.arange(-2, 5+1, step=2))\n",
    "logo.style_spines(visible=False)\n",
    "\n",
    "\n",
    "# sequence logo for the RNAP-DNA binding energy matrix\n",
    "logo = logomaker.Logo(rnap_df, ax=axs[1], center_values=True)\n",
    "axs[1].set_title('RNAP-DNA ($\\Delta G_R$)')\n",
    "axs[1].set_xlabel('Position')\n",
    "axs[1].set_xticks(np.arange(0, len(rnap_weights), step=5))\n",
    "axs[1].set_xticklabels(np.arange(-25, 17, step=5))\n",
    "logo.style_spines(visible=False)\n",
    "\n",
    "print(tf_weights)\n",
    "plt.tight_layout()"
   ]
  },
  {
   "cell_type": "code",
   "execution_count": 60,
   "id": "7f07451f",
   "metadata": {
    "scrolled": true
   },
   "outputs": [
    {
     "data": {
      "text/plain": [
       "<matplotlib.colorbar.Colorbar at 0x1754a0250>"
      ]
     },
     "execution_count": 60,
     "metadata": {},
     "output_type": "execute_result"
    },
    {
     "data": {
      "image/png": "[encoded data removed]",
      "text/plain": [
       "<Figure size 720x144 with 2 Axes>"
      ]
     },
     "metadata": {
      "needs_background": "light"
     },
     "output_type": "display_data"
    }
   ],
   "source": [
    "maximum = np.max(np.abs(tf_weights))\n",
    "fig,ax = plt.subplots(figsize=((10,2)))\n",
    "plt.imshow(-np.transpose(tf_weights), origin='upper', cmap='coolwarm', vmax=maximum, vmin=-maximum)\n",
    "plt.xlabel('Position')\n",
    "ax.set_yticks([0, 1, 2, 3])\n",
    "ax.set_yticklabels(['A','C','G','T'])\n",
    "ax.set_xticks(np.arange(0, len(tf_weights), step=2))\n",
    "ax.set_xticklabels(np.arange(-2, 5+1, step=2))\n",
    "ax.grid(False)\n",
    "plt.colorbar()"
   ]
  },
  {
   "cell_type": "code",
   "execution_count": 62,
   "id": "1db17bd4",
   "metadata": {},
   "outputs": [
    {
     "data": {
      "text/plain": [
       "<matplotlib.colorbar.Colorbar at 0x176afd100>"
      ]
     },
     "execution_count": 62,
     "metadata": {},
     "output_type": "execute_result"
    },
    {
     "data": {
      "image/png": "[encoded data removed]",
      "text/plain": [
       "<Figure size 720x144 with 2 Axes>"
      ]
     },
     "metadata": {
      "needs_background": "light"
     },
     "output_type": "display_data"
    }
   ],
   "source": [
    "maximum = np.max(np.abs(rnap_weights))\n",
    "fig,ax = plt.subplots(figsize=((10,2)))\n",
    "plt.imshow(-np.transpose(rnap_weights), origin='upper', cmap='coolwarm', vmax=maximum, vmin=-maximum)\n",
    "plt.xlabel('Position')\n",
    "ax.set_yticks([0, 1, 2, 3])\n",
    "ax.set_yticklabels(['A','C','G','T'])\n",
    "ax.set_xticks(np.arange(0, len(rnap_weights), step=5))\n",
    "ax.set_xticklabels(np.arange(-25, 17, step=5))\n",
    "ax.grid(False)\n",
    "plt.colorbar()"
   ]
  },
  {
   "cell_type": "code",
   "execution_count": null,
   "id": "7b6fb020",
   "metadata": {},
   "outputs": [],
   "source": []
  },
  {
   "cell_type": "code",
   "execution_count": null,
   "id": "cb38b939-6cee-48cd-8f1e-162551c1e3c1",
   "metadata": {},
   "outputs": [],
   "source": []
  }
 ],
 "metadata": {
  "kernelspec": {
   "display_name": "Python (mavenn)",
   "language": "python",
   "name": "mymavenn"
  },
  "language_info": {
   "codemirror_mode": {
    "name": "ipython",
    "version": 3
   },
   "file_extension": ".py",
   "mimetype": "text/x-python",
   "name": "python",
   "nbconvert_exporter": "python",
   "pygments_lexer": "ipython3",
   "version": "3.8.13"
  }
 },
 "nbformat": 4,
 "nbformat_minor": 5
}

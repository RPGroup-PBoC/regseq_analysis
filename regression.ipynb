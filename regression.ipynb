{
 "cells": [
  {
   "attachments": {},
   "cell_type": "markdown",
   "metadata": {},
   "source": [
    "# Analyzing Reg-Seq from first principles\n",
    "## 2023-07-26"
   ]
  },
  {
   "cell_type": "code",
   "execution_count": null,
   "metadata": {},
   "outputs": [],
   "source": [
    "from pathlib import Path\n",
    "\n",
    "import numpy as np\n",
    "import pandas as pd\n",
    "import scipy as sp\n",
    "import matplotlib.pyplot as plt\n",
    "\n",
    "import bokeh.io\n",
    "import bokeh.plotting\n",
    "import holoviews as hv\n",
    "\n",
    "import iqplot\n",
    "\n",
    "bokeh.io.output_notebook()\n",
    "hv.extension('bokeh')\n",
    "\n",
    "# import panel as pn\n",
    "# pn.extension()\n",
    "\n",
    "# data preprocessing\n",
    "from sklearn.model_selection import train_test_split\n",
    "\n",
    "# linear regression\n",
    "from sklearn.linear_model import LinearRegression\n",
    "from sklearn.metrics import mean_squared_error"
   ]
  },
  {
   "attachments": {},
   "cell_type": "markdown",
   "metadata": {},
   "source": [
    "## The Dataset"
   ]
  },
  {
   "attachments": {},
   "cell_type": "markdown",
   "metadata": {},
   "source": [
    "We have processing sequencing data (barcodes) from recent Reg-Seq runs. For example, Tom's \"promoter long\" experiment:"
   ]
  },
  {
   "cell_type": "code",
   "execution_count": null,
   "metadata": {},
   "outputs": [],
   "source": [
    "dataset = Path('~/projects/regseq_analysis/data/tom_apr23/p260_barcodes.csv')\n",
    "df = pd.read_csv(dataset)\n",
    "df"
   ]
  },
  {
   "attachments": {},
   "cell_type": "markdown",
   "metadata": {},
   "source": [
    "Before we dive in, let's get a sense for what our dataset is like.\n",
    "- `ct_0` is the number of times the promoter DNA was sequenced. `ct_1` is the number of times the corresponding RNA read was sequenced. `ct` is the sum (less useful).\n",
    "- The `promoter` sequence is a 160 bp stretch (we should check this) from which we eventually hope to predict expression.\n",
    "- In many cases we know which gene the promoter has been scavenged from; this is shown in the `name`.\n",
    "\n",
    "There's more metadata here, but I don't think it's all going to be immediately useful (and I'd need to talk to Tom anyways to make sure I know what it all means).\n",
    "\n",
    "Forging ahead with validation, let's first check that all the promoter sequences are indeed equal in length; this will be necessary for later model development -- for instance, any neural networks will expect inputs of equal length."
   ]
  },
  {
   "cell_type": "code",
   "execution_count": null,
   "metadata": {},
   "outputs": [],
   "source": [
    "# check that all sequences have the same length\n",
    "df['promoter'].apply(len).unique()"
   ]
  },
  {
   "attachments": {},
   "cell_type": "markdown",
   "metadata": {},
   "source": [
    "Great! Not only is every promoter equal in length, but that length is also the (anticipated) 160 bp.\n",
    "\n",
    "Let's get a sense of the distribution of expression across all rows of the dataset. First, we look at `ct_0` and `ct_1` independently:"
   ]
  },
  {
   "cell_type": "code",
   "execution_count": null,
   "metadata": {},
   "outputs": [],
   "source": [
    "hist_ct0 = iqplot.histogram(data=df, q='ct_0')\n",
    "hist_ct1 = iqplot.histogram(data=df, q='ct_1')\n",
    "\n",
    "bokeh.io.show(bokeh.layouts.gridplot([hist_ct0, hist_ct1], ncols=1))"
   ]
  },
  {
   "attachments": {},
   "cell_type": "markdown",
   "metadata": {},
   "source": [
    "Hm, this isn't ideal -- the dataset is pretty big, so these histograms are quite unwieldy (especially for the RNA counts). There also looks to be a strange, regular pattern along the x-axis in both, which I think isn't noise but rather an effect of overplotting. Will have to find a better way to do this. At least the distributions seem skewed right, which is what we expect: most sequences don't show up in either sequencing run.\n",
    "\n",
    "Next, we need a value that will represent **gene expression**. A simple first idea is to take the ratio `ct_1/ct_0` for each row. We should, I think, discard any rows for which `ct_0` was zero, since this will break down there."
   ]
  },
  {
   "cell_type": "code",
   "execution_count": null,
   "metadata": {},
   "outputs": [],
   "source": [
    "# count how many rows have ct_0 = 0\n",
    "print(\"There are\", df['ct_0'].value_counts().iloc[0], \"rows with ct_0 = 0\")\n",
    "print(\"Deleting them...\")\n",
    "\n",
    "# delete rows for which ct_0 is 0\n",
    "df = df[df['ct_0'] != 0]\n",
    "\n",
    "# add a column 'expression' that is the ratio of ct_1/ct_0\n",
    "df['expression'] = (df['ct_1']/df['ct_0'])\n",
    "\n",
    "df"
   ]
  },
  {
   "cell_type": "code",
   "execution_count": null,
   "metadata": {},
   "outputs": [],
   "source": [
    "bokeh.io.show(iqplot.ecdf(data=df, q='expression'))\n"
   ]
  },
  {
   "attachments": {},
   "cell_type": "markdown",
   "metadata": {},
   "source": [
    "## Test case: araBp"
   ]
  },
  {
   "attachments": {},
   "cell_type": "markdown",
   "metadata": {},
   "source": [
    "It ought to be more informative to compare results within a single gene (that's how we'll have to train our models anyway). Which genes have the most rows of data associated with them?"
   ]
  },
  {
   "cell_type": "code",
   "execution_count": null,
   "metadata": {},
   "outputs": [],
   "source": [
    "# count how many unique genes there are\n",
    "gene_names = df.name.unique().tolist()\n",
    "print(len(gene_names), \"unique genes identified.\")\n",
    "\n",
    "# sort by number of rows\n",
    "grouped = df.groupby(['name']).size().reset_index()\n",
    "grouped.sort_values([0], ascending=False)"
   ]
  },
  {
   "attachments": {},
   "cell_type": "markdown",
   "metadata": {},
   "source": [
    "As we can see, after filtering out sequences for which no DNA reads were found, the most prevalent promoters are araBp, xylAp, rspAp, znuCp, and xylFp. (I'm not sure what `*` means here.)\n",
    "\n",
    "What does the distribution look like _within_ araBp?"
   ]
  },
  {
   "cell_type": "code",
   "execution_count": null,
   "metadata": {},
   "outputs": [],
   "source": [
    "df_araBp = df.loc[df['name'] == 'araBp']\n",
    "df_araBp"
   ]
  },
  {
   "cell_type": "code",
   "execution_count": null,
   "metadata": {},
   "outputs": [],
   "source": [
    "bokeh.io.show(iqplot.histogram(data=df_araBp, q='expression'))"
   ]
  },
  {
   "attachments": {},
   "cell_type": "markdown",
   "metadata": {},
   "source": [
    "It's still difficult to see anything useful with all this data overplotted in a single place. Will have to return to this."
   ]
  },
  {
   "attachments": {},
   "cell_type": "markdown",
   "metadata": {},
   "source": [
    "### One-hot encoding"
   ]
  },
  {
   "attachments": {},
   "cell_type": "markdown",
   "metadata": {},
   "source": [
    "Before we can start training anything on sequence data, we should _one-hot encode_ our sequences to convert them into numerical, rather than categorical, data. This will ensure any model doesn't learn to assign undue significance to the relative ordering of bases that doesn't have any basis in biological reality."
   ]
  },
  {
   "cell_type": "code",
   "execution_count": null,
   "metadata": {},
   "outputs": [],
   "source": [
    "# create an integer mapping of DNA bases\n",
    "base_to_index = {\"A\": 0, \"T\": 1, \"C\": 2, \"G\": 3}\n",
    "\n",
    "def one_hot_encode(seq):\n",
    "    '''One-hot encode a given DNA sequence.'''\n",
    "    # preallocate matrix\n",
    "    encoded_seq = np.zeros((len(seq), len(base_to_index)), dtype=int)\n",
    "    \n",
    "    # loop over seq and encode each base\n",
    "    for i, base in enumerate(seq):\n",
    "        encoded_seq[i, base_to_index[base]] = 1\n",
    "        \n",
    "    return encoded_seq\n",
    "\n",
    "\n",
    "# for every sequence in the dataframe, one-hot encode it\n",
    "df_araBp['one_hot'] = df_araBp['promoter'].apply(one_hot_encode)\n",
    "df_araBp"
   ]
  },
  {
   "attachments": {},
   "cell_type": "markdown",
   "metadata": {},
   "source": [
    "## Linear regression"
   ]
  },
  {
   "attachments": {},
   "cell_type": "markdown",
   "metadata": {},
   "source": [
    "To begin our lowbrow attempt at Reg-Seq analysis, let's start with the simplest possible case: linear regression.\n",
    "\n",
    "Our one-hot encoded DNA sequences will be `x`, and the resulting gene expression will be `y`.\n",
    "\n",
    "First, let's split our data into training and testing sets:"
   ]
  },
  {
   "cell_type": "code",
   "execution_count": null,
   "metadata": {},
   "outputs": [],
   "source": [
    "# split data for training vs. testing\n",
    "x = np.stack(df_araBp['one_hot'].values)\n",
    "y = df_araBp['expression'].values\n",
    "\n",
    "# reshape x into a 2D array as needed\n",
    "n_samples, len_seq, n_bases = x.shape\n",
    "x = np.reshape(x, (n_samples, len_seq * n_bases))\n",
    "\n",
    "print(x.shape, y.shape)"
   ]
  },
  {
   "cell_type": "code",
   "execution_count": null,
   "metadata": {},
   "outputs": [],
   "source": [
    "x_train, x_test, y_train, y_test = train_test_split(x, y, test_size=0.2, random_state=42)\n",
    "\n",
    "# create & train a linear regression model\n",
    "model = LinearRegression()\n",
    "model.fit(x_train, y_train)\n",
    "\n",
    "# make predictions on the testing data\n",
    "y_pred = model.predict(x_test)\n",
    "\n",
    "# evaluate the model's performance\n",
    "mse = mean_squared_error(y_test, y_pred)\n",
    "print(\"Mean Squared Error:\", mse)\n",
    "\n",
    "# retrieve the learned weights and intercept\n",
    "weights = model.coef_\n",
    "intercept = model.intercept_\n"
   ]
  },
  {
   "attachments": {},
   "cell_type": "markdown",
   "metadata": {},
   "source": [
    "Here, the weights tell us the relative impact of each nucleotide position on gene expression. Let's see them:"
   ]
  },
  {
   "cell_type": "code",
   "execution_count": null,
   "metadata": {},
   "outputs": [],
   "source": [
    "print(weights)"
   ]
  },
  {
   "cell_type": "code",
   "execution_count": null,
   "metadata": {},
   "outputs": [],
   "source": []
  }
 ],
 "metadata": {
  "kernelspec": {
   "display_name": "bi250",
   "language": "python",
   "name": "python3"
  },
  "language_info": {
   "codemirror_mode": {
    "name": "ipython",
    "version": 3
   },
   "file_extension": ".py",
   "mimetype": "text/x-python",
   "name": "python",
   "nbconvert_exporter": "python",
   "pygments_lexer": "ipython3",
   "version": "3.9.12"
  },
  "orig_nbformat": 4,
  "vscode": {
   "interpreter": {
    "hash": "30b84368320f5bc49f7f4ccb9aeeb9edae19f595eb9035a1911b169ebe6f470e"
   }
  }
 },
 "nbformat": 4,
 "nbformat_minor": 2
}
